{
 "cells": [
  {
   "cell_type": "code",
   "execution_count": 9,
   "metadata": {},
   "outputs": [
    {
     "name": "stdout",
     "output_type": "stream",
     "text": [
      "5.0\n"
     ]
    }
   ],
   "source": [
    "import math\n",
    "a = 3**2\n",
    "b = 4**2\n",
    "print(math.sqrt(a + b))"
   ]
  },
  {
   "cell_type": "code",
   "execution_count": 29,
   "metadata": {},
   "outputs": [
    {
     "name": "stdout",
     "output_type": "stream",
     "text": [
      "4.9\n"
     ]
    }
   ],
   "source": [
    "import math\n",
    "a = 5**2\n",
    "c = 7**2\n",
    "result = math.sqrt(c - a)\n",
    "print(f\"{result:.1f}\")"
   ]
  },
  {
   "cell_type": "code",
   "execution_count": 30,
   "metadata": {},
   "outputs": [
    {
     "name": "stdout",
     "output_type": "stream",
     "text": [
      "82.2%\n"
     ]
    }
   ],
   "source": [
    "Predictions = 365\n",
    "Correct_Predictions = 300\n",
    "Accuracy =  Correct_Predictions/Predictions *100\n",
    "print(f\"{Accuracy:.1f}%\")"
   ]
  },
  {
   "cell_type": "code",
   "execution_count": 31,
   "metadata": {},
   "outputs": [
    {
     "name": "stdout",
     "output_type": "stream",
     "text": [
      "0.987\n"
     ]
    }
   ],
   "source": [
    "TP = 2\n",
    "FP = 2\n",
    "FN = 11\n",
    "TN = 985\n",
    "Accuracy = (TP + TN)/(TP + FP + FN + TN)\n",
    "print(f\"{Accuracy:.3f}\")"
   ]
  },
  {
   "cell_type": "code",
   "execution_count": 39,
   "metadata": {},
   "outputs": [
    {
     "name": "stdout",
     "output_type": "stream",
     "text": [
      "The equation for the slope is y =  0.75 x + 1\n"
     ]
    }
   ],
   "source": [
    "X1,Y1 = 4,4\n",
    "X2,Y2 = 0,1\n",
    "\n",
    "Y2 = 1\n",
    "K = (Y2-Y1) / (X2-X1)\n",
    "print(f\"The equation for the slope is y =  {K} x + 1\")"
   ]
  },
  {
   "cell_type": "code",
   "execution_count": 42,
   "metadata": {},
   "outputs": [
    {
     "name": "stdout",
     "output_type": "stream",
     "text": [
      "The distance is around 5.1 length units.\n"
     ]
    }
   ],
   "source": [
    "import math\n",
    "X1,Y1 = 3,5\n",
    "X2,Y2 = -2,4\n",
    "Distance = math.sqrt((X2 - X1)**2 + (Y2 - Y1)**2)\n",
    "print(f\"The distance is around {Distance:.1f} length units.\")"
   ]
  },
  {
   "cell_type": "code",
   "execution_count": 47,
   "metadata": {},
   "outputs": [
    {
     "name": "stdout",
     "output_type": "stream",
     "text": [
      "The distance is around 4.12 length units.\n"
     ]
    }
   ],
   "source": [
    "import math\n",
    "p1,p2,p3 = 2,1,4\n",
    "q1,q2,q3 = 3,1,0\n",
    "Distance = math.sqrt((p1 - q2)**2 + (p2 - q2)**2 + (p3 - q3)**2)\n",
    "print(f\"The distance is around {Distance:.2f} length units.\")"
   ]
  }
 ],
 "metadata": {
  "kernelspec": {
   "display_name": "Python 3.9.6 64-bit",
   "language": "python",
   "name": "python3"
  },
  "language_info": {
   "codemirror_mode": {
    "name": "ipython",
    "version": 3
   },
   "file_extension": ".py",
   "mimetype": "text/x-python",
   "name": "python",
   "nbconvert_exporter": "python",
   "pygments_lexer": "ipython3",
   "version": "3.11.5"
  },
  "orig_nbformat": 4,
  "vscode": {
   "interpreter": {
    "hash": "0da836a34428266995a795f1e1e27b816fa1c02f148d9728b3fbbbc5459afca6"
   }
  }
 },
 "nbformat": 4,
 "nbformat_minor": 2
}

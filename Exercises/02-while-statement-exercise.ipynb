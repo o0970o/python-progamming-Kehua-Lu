{
 "cells": [
  {
   "cell_type": "code",
   "execution_count": 5,
   "metadata": {},
   "outputs": [
    {
     "name": "stdout",
     "output_type": "stream",
     "text": [
      "-10 -9 -8 -7 -6 -5 -4 -3 -2 -1 0 1 2 3 4 5 6 7 8 9 10 "
     ]
    }
   ],
   "source": [
    "i = -10\n",
    "while i <= 10:\n",
    "    print(f\"{i} \",end='')\n",
    "    i += 1"
   ]
  },
  {
   "cell_type": "code",
   "execution_count": 8,
   "metadata": {},
   "outputs": [
    {
     "name": "stdout",
     "output_type": "stream",
     "text": [
      "sum = 5050\n",
      "sum = 2500\n"
     ]
    }
   ],
   "source": [
    "i = 1\n",
    "sum = 0\n",
    "while i <= 100:\n",
    "    sum = sum + i\n",
    "    i +=1\n",
    "\n",
    "print(f\"sum = {sum}\")\n",
    "\n",
    "i = 1\n",
    "sum = 0\n",
    "while i <= 100:\n",
    "    sum = sum + i\n",
    "    i +=2\n",
    "\n",
    "print(f\"sum = {sum}\")"
   ]
  },
  {
   "cell_type": "code",
   "execution_count": 9,
   "metadata": {},
   "outputs": [
    {
     "name": "stdout",
     "output_type": "stream",
     "text": [
      "You guess wrong! You already guess 1 times.\n",
      "You guess wrong! You already guess 2 times.\n",
      "You guess wrong! You already guess 3 times.\n",
      "You guess wrong! You already guess 4 times.\n",
      "You guess wrong! You already guess 5 times.\n",
      "You guess wrong! You already guess 6 times.\n",
      "You guess wrong! You already guess 7 times.\n",
      "You guess wrong! You already guess 8 times.\n",
      "You guess wrong! You already guess 9 times.\n",
      "You guess wrong! You already guess 10 times.\n",
      "Game Over!\n"
     ]
    }
   ],
   "source": [
    "import random\n",
    "num = random.randint(1,100)\n",
    "guess_times = 0\n",
    "while guess_times < 10:\n",
    "    guessing_num = int(input(\"Enter your guessing number:(1-100)\") )\n",
    "    if guessing_num == num:\n",
    "        print(\"Correct!\")\n",
    "        break\n",
    "    else :\n",
    "        guess_times += 1\n",
    "        print(f\"You guess wrong! You already guess {guess_times} times.\")\n",
    "\n",
    "print(\"Game Over!\")"
   ]
  },
  {
   "cell_type": "code",
   "execution_count": 31,
   "metadata": {},
   "outputs": [
    {
     "name": "stdout",
     "output_type": "stream",
     "text": [
      "Auto guess:100 too big! Machine already guess 1 times.\n",
      "Auto guess:50 too small! Machine already guess 2 times.\n",
      "Auto guess:75 too small! Machine already guess 3 times.\n",
      "Auto guess:112 too big! Machine already guess 4 times.\n",
      "Auto guess:56 too small! Machine already guess 5 times.\n",
      "Auto guess:84 too small! Machine already guess 6 times.\n",
      "Auto guess:126 too big! Machine already guess 7 times.\n",
      "Auto guess:63 too small! Machine already guess 8 times.\n",
      "Auto guess:94 too small! Machine already guess 9 times.\n",
      "Auto guess:141 too big! Machine already guess 10 times.\n",
      "Auto guess:70 too small! Machine already guess 11 times.\n",
      "Auto guess:105 too big! Machine already guess 12 times.\n",
      "Auto guess:52 too small! Machine already guess 13 times.\n",
      "Auto guess:78 too small! Machine already guess 14 times.\n",
      "Auto guess:117 too big! Machine already guess 15 times.\n",
      "Auto guess:58 too small! Machine already guess 16 times.\n",
      "Auto guess:87 too small! Machine already guess 17 times.\n",
      "Auto guess:130 too big! Machine already guess 18 times.\n",
      "Auto guess:65 too small! Machine already guess 19 times.\n",
      "Auto guess:97 too big! Machine already guess 20 times.\n",
      "Auto guess:48 too small! Machine already guess 21 times.\n",
      "Auto guess:72 too small! Machine already guess 22 times.\n",
      "Auto guess:108 too big! Machine already guess 23 times.\n",
      "Auto guess:54 too small! Machine already guess 24 times.\n",
      "Auto guess:81 too small! Machine already guess 25 times.\n",
      "Auto guess:121 too big! Machine already guess 26 times.\n",
      "Auto guess:60 too small! Machine already guess 27 times.\n",
      "Auto guess:90 too small! Machine already guess 28 times.\n",
      "Auto guess:135 too big! Machine already guess 29 times.\n",
      "Auto guess:67 too small! Machine already guess 30 times.\n",
      "Auto guess:100 too big! Machine already guess 31 times.\n",
      "Auto guess:50 too small! Machine already guess 32 times.\n",
      "Auto guess:75 too small! Machine already guess 33 times.\n",
      "Auto guess:112 too big! Machine already guess 34 times.\n",
      "Auto guess:56 too small! Machine already guess 35 times.\n",
      "Auto guess:84 too small! Machine already guess 36 times.\n",
      "Auto guess:126 too big! Machine already guess 37 times.\n",
      "Auto guess:63 too small! Machine already guess 38 times.\n",
      "Auto guess:94 too small! Machine already guess 39 times.\n",
      "Auto guess:141 too big! Machine already guess 40 times.\n",
      "Auto guess:70 too small! Machine already guess 41 times.\n",
      "Auto guess:105 too big! Machine already guess 42 times.\n",
      "Auto guess:52 too small! Machine already guess 43 times.\n",
      "Auto guess:78 too small! Machine already guess 44 times.\n",
      "Auto guess:117 too big! Machine already guess 45 times.\n",
      "Auto guess:58 too small! Machine already guess 46 times.\n",
      "Auto guess:87 too small! Machine already guess 47 times.\n",
      "Auto guess:130 too big! Machine already guess 48 times.\n",
      "Auto guess:65 too small! Machine already guess 49 times.\n",
      "Auto guess:97 too big! Machine already guess 50 times.\n",
      "Game Over!\n"
     ]
    }
   ],
   "source": [
    "import random\n",
    "num = random.randint(1,100)\n",
    "guess_times = 0\n",
    "guessing_num = 100\n",
    "while guess_times < 50:\n",
    "    if guessing_num == num:\n",
    "        print(f\"Auto guess Correct! The number is {num}\")\n",
    "        break\n",
    "    else :\n",
    "        if guessing_num > num:\n",
    "            guess_times += 1\n",
    "            print(f\"Auto guess:{guessing_num} too big! Machine already guess {guess_times} times.\")\n",
    "            guessing_num = (guessing_num // 2)\n",
    "        else:\n",
    "            guess_times += 1\n",
    "            print(f\"Auto guess:{guessing_num} too small! Machine already guess {guess_times} times.\")\n",
    "            guessing_num += (guessing_num // 2)\n",
    "            \n",
    "            \n",
    "\n",
    "\n",
    "print(\"Game Over!\")\n"
   ]
  }
 ],
 "metadata": {
  "kernelspec": {
   "display_name": "Python 3",
   "language": "python",
   "name": "python3"
  },
  "language_info": {
   "codemirror_mode": {
    "name": "ipython",
    "version": 3
   },
   "file_extension": ".py",
   "mimetype": "text/x-python",
   "name": "python",
   "nbconvert_exporter": "python",
   "pygments_lexer": "ipython3",
   "version": "3.11.5"
  },
  "orig_nbformat": 4
 },
 "nbformat": 4,
 "nbformat_minor": 2
}

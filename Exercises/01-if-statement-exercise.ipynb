{
 "cells": [
  {
   "cell_type": "code",
   "execution_count": null,
   "metadata": {},
   "outputs": [],
   "source": [
    "x = 0\n",
    "if x > 0: \n",
    "  print(\"Positive!\")\n",
    "elif x < 0:\n",
    "  print(\"Negative!\")\n",
    "else:\n",
    "  print(\"Zero\")"
   ]
  },
  {
   "cell_type": "code",
   "execution_count": null,
   "metadata": {},
   "outputs": [],
   "source": [
    "import math\n",
    "a = 10\n",
    "b = 90\n",
    "if a > b:\n",
    "    print(\"b is smallest!\")\n",
    "elif b > a:\n",
    "    print(\"a is smallest!\")\n",
    "else:\n",
    "    print(\"Both number are equal!\")"
   ]
  },
  {
   "cell_type": "code",
   "execution_count": null,
   "metadata": {},
   "outputs": [],
   "source": []
  },
  {
   "cell_type": "code",
   "execution_count": null,
   "metadata": {},
   "outputs": [],
   "source": [
    "\n",
    "def right_triangle(angle1, angle2, angle3):\n",
    "    if angle1 <= 0 or angle2 <= 0 or angle3 <= 0 or angle1 + angle2 + angle3 != 180:\n",
    "        return False\n",
    "    if angle1 == 90 or angle2 == 90 or angle3 == 90:\n",
    "        return True\n",
    "    angles = [angle1, angle2, angle3]\n",
    "    angles.sort()\n",
    "    \n",
    "    if angles[0]**2 + angles[1]**2 == angles[2]**2:\n",
    "        return True\n",
    "    \n",
    "    return False\n",
    "\n",
    "try:\n",
    "    angle1 = float(input(\"Enter the first angle: \"))\n",
    "    angle2 = float(input(\"Enter the second angle: \"))\n",
    "    angle3 = float(input(\"Enter the third angle: \"))\n",
    "    \n",
    "    if right_triangle(angle1, angle2, angle3):\n",
    "        print(\"These angles form a right triangle.\")\n",
    "    else:\n",
    "        print(\"These angles do not form a right triangle.\")\n",
    "except ValueError:\n",
    "    print(\"Please enter valid numerical values for the angles.\")\n"
   ]
  },
  {
   "cell_type": "code",
   "execution_count": null,
   "metadata": {},
   "outputs": [],
   "source": [
    "max_weight = 8  \n",
    "max_length = 55  \n",
    "max_width = 40   \n",
    "max_height = 23\n",
    "\n",
    "\n",
    "weight = float(input(\"Enter the weight of the luggage (kg): \"))\n",
    "length = float(input(\"Enter the length of the luggage (cm): \"))\n",
    "width = float(input(\"Enter the width of the luggage (cm): \"))\n",
    "height = float(input(\"Enter the height of the luggage (cm): \"))\n",
    "if (\n",
    "        weight <= max_weight and\n",
    "        length <= max_length and\n",
    "        width <= max_width and\n",
    "        height <= max_height\n",
    "    ):\n",
    "        print(\"The luggage is allowed for boarding.\")\n",
    "else:\n",
    "        print(\"The luggage exceeds the allowed size.\")"
   ]
  },
  {
   "cell_type": "code",
   "execution_count": 3,
   "metadata": {},
   "outputs": [
    {
     "name": "stdout",
     "output_type": "stream",
     "text": [
      "-10\n",
      "-9\n",
      "-8\n",
      "-7\n",
      "-6\n",
      "-5\n",
      "-4\n",
      "-3\n",
      "-2\n",
      "-1\n",
      "0\n",
      "1\n",
      "2\n",
      "3\n",
      "4\n",
      "5\n",
      "6\n",
      "7\n",
      "8\n",
      "9\n",
      "10\n",
      "End.\n"
     ]
    }
   ],
   "source": [
    "i = -10\n",
    "\n",
    "while i <= 10:\n",
    "    print(f\"{i:1d}\")\n",
    "    i += 1\n",
    "\n",
    "print(\"End.\")"
   ]
  }
 ],
 "metadata": {
  "kernelspec": {
   "display_name": "Python 3",
   "language": "python",
   "name": "python3"
  },
  "language_info": {
   "codemirror_mode": {
    "name": "ipython",
    "version": 3
   },
   "file_extension": ".py",
   "mimetype": "text/x-python",
   "name": "python",
   "nbconvert_exporter": "python",
   "pygments_lexer": "ipython3",
   "version": "3.11.5"
  },
  "orig_nbformat": 4
 },
 "nbformat": 4,
 "nbformat_minor": 2
}

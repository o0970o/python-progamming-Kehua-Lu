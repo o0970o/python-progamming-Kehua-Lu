{
 "cells": [
  {
   "cell_type": "code",
   "execution_count": null,
   "metadata": {},
   "outputs": [],
   "source": []
  },
  {
   "cell_type": "code",
   "execution_count": 1,
   "metadata": {},
   "outputs": [
    {
     "name": "stdout",
     "output_type": "stream",
     "text": [
      "Reversed inputs:\n",
      "66\n",
      "55\n",
      "as\n",
      "32\n",
      "j32jnj34\n",
      "42uuj\n"
     ]
    }
   ],
   "source": [
    "inputs = []\n",
    "\n",
    "while True:\n",
    "    user_input = input(\"Enter a value (or press Enter to finish): \")\n",
    "    if user_input == \"\":\n",
    "        break\n",
    "    inputs.append(user_input)\n",
    "\n",
    "inputs.reverse()\n",
    "\n",
    "print(\"Reversed inputs:\")\n",
    "for input_value in inputs:\n",
    "    print(input_value)\n"
   ]
  },
  {
   "cell_type": "code",
   "execution_count": 10,
   "metadata": {},
   "outputs": [
    {
     "name": "stdout",
     "output_type": "stream",
     "text": [
      "Dice Rolls: [5, 4, 5, 4, 6, 2, 3, 2, 5, 3]\n",
      "Sorted in Ascending Order: [2, 2, 3, 3, 4, 4, 5, 5, 5, 6]\n",
      "Sorted in Descending Order: [6, 5, 5, 5, 4, 4, 3, 3, 2, 2]\n",
      "Maximum Value: 6\n",
      "Minimum Value: 2\n"
     ]
    }
   ],
   "source": [
    "import random\n",
    "\n",
    "# Simulate 10 dice rolls and store them in a list\n",
    "dice_rolls = [random.randint(1, 6) for _ in range(10)]\n",
    "\n",
    "# Sort the list in ascending order\n",
    "sorted_ascending = sorted(dice_rolls)\n",
    "\n",
    "# Sort the list in descending order\n",
    "sorted_descending = sorted(dice_rolls, reverse=True)\n",
    "\n",
    "# Find maximum and minimum values in the list\n",
    "maximum_value = max(dice_rolls)\n",
    "minimum_value = min(dice_rolls)\n",
    "\n",
    "# Print the results\n",
    "print(\"Dice Rolls:\", dice_rolls)\n",
    "print(\"Sorted in Ascending Order:\", sorted_ascending)\n",
    "print(\"Sorted in Descending Order:\", sorted_descending)\n",
    "print(\"Maximum Value:\", maximum_value)\n",
    "print(\"Minimum Value:\", minimum_value)\n"
   ]
  },
  {
   "cell_type": "code",
   "execution_count": 24,
   "metadata": {},
   "outputs": [
    {
     "name": "stdout",
     "output_type": "stream",
     "text": [
      "[['Man', 'vegetarisk lasagne'], ['Tis', 'spaghetti'], ['Ons', 'fisk'], ['Tor', 'grönsakssoppa'], ['Fre', 'pannkakor']]\n"
     ]
    }
   ],
   "source": [
    "food_menu = [\"vegetarisk lasagne\", \"spaghetti\", \"fisk\", \"grönsakssoppa\", \"pannkakor\"]\n",
    "weeksday = [\"Man\",\"Tis\",\"Ons\",\"Tor\",\"Fre\"]\n",
    "dag_menu = []\n",
    "for i in range(5):\n",
    "     dag_menu.append([weeksday[i],food_menu[i]])\n",
    "print(dag_menu)"
   ]
  }
 ],
 "metadata": {
  "kernelspec": {
   "display_name": "Python 3",
   "language": "python",
   "name": "python3"
  },
  "language_info": {
   "codemirror_mode": {
    "name": "ipython",
    "version": 3
   },
   "file_extension": ".py",
   "mimetype": "text/x-python",
   "name": "python",
   "nbconvert_exporter": "python",
   "pygments_lexer": "ipython3",
   "version": "3.11.5"
  },
  "orig_nbformat": 4
 },
 "nbformat": 4,
 "nbformat_minor": 2
}
